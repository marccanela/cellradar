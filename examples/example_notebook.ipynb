{
 "cells": [
  {
   "cell_type": "code",
   "execution_count": 8,
   "metadata": {},
   "outputs": [],
   "source": [
    "import sys\n",
    "import os\n",
    "\n",
    "# Add the directory to sys.path\n",
    "cellradar_path = os.path.abspath('//folder/becell/Lab Projects/ERCstG_HighMemory/Data/Marc/github/cellradar/cellradar')\n",
    "sys.path.append(cellradar_path)"
   ]
  },
  {
   "cell_type": "markdown",
   "metadata": {},
   "source": [
    "# Analyzing single markers"
   ]
  },
  {
   "cell_type": "code",
   "execution_count": null,
   "metadata": {},
   "outputs": [],
   "source": [
    "from main import analyze\n",
    "from pathlib import Path\n",
    "import pickle as pkl"
   ]
  },
  {
   "cell_type": "markdown",
   "metadata": {},
   "source": [
    "## tdTomato"
   ]
  },
  {
   "cell_type": "code",
   "execution_count": 9,
   "metadata": {},
   "outputs": [],
   "source": [
    "tdt_folder = Path(\"//folder/becell/Lab Projects/ERCstG_HighMemory/Data/Marc/github/cellradar/examples/sample_data/tdt\")\n",
    "with open(\"//folder/becell/Lab Projects/ERCstG_HighMemory/Data/Marc/github/cellradar/examples/sample_data/model/best_model_svm.pkl\", \"rb\") as file:\n",
    "    best_model = pkl.load(file)"
   ]
  },
  {
   "cell_type": "code",
   "execution_count": 10,
   "metadata": {},
   "outputs": [
    {
     "name": "stdout",
     "output_type": "stream",
     "text": [
      "Found model '2D_versatile_fluo' for 'StarDist2D'.\n",
      "Loading network weights from 'weights_best.h5'.\n",
      "Loading thresholds from 'thresholds.json'.\n",
      "Using default values: prob_thresh=0.479071, nms_thresh=0.3.\n"
     ]
    },
    {
     "name": "stderr",
     "output_type": "stream",
     "text": [
      "Segmenting images: 100%|██████████| 137/137 [00:53<00:00,  2.57image/s]\n",
      "Applying prediction model: 100%|██████████| 137/137 [05:22<00:00,  2.35s/image]\n"
     ]
    }
   ],
   "source": [
    "analyze(tdt_folder, 'Reds', best_model)"
   ]
  },
  {
   "cell_type": "markdown",
   "metadata": {},
   "source": [
    "## cFos"
   ]
  },
  {
   "cell_type": "code",
   "execution_count": null,
   "metadata": {},
   "outputs": [],
   "source": [
    "cfos_folder = Path(\"//folder/becell/Lab Projects/ERCstG_HighMemory/Data/Marc/github/cellradar/examples/sample_data/cfos\")"
   ]
  },
  {
   "cell_type": "code",
   "execution_count": null,
   "metadata": {},
   "outputs": [],
   "source": [
    "analyze(cfos_folder, 'Greens')"
   ]
  },
  {
   "cell_type": "markdown",
   "metadata": {},
   "source": [
    "# Calculating colocalization"
   ]
  },
  {
   "cell_type": "code",
   "execution_count": null,
   "metadata": {},
   "outputs": [],
   "source": [
    "from predicting import colocalize\n",
    "\n",
    "processed_rois_path_1 = Path('C:/Users/mcanela/Desktop/sample_jose/cfos_analysis/rois_processed')\n",
    "images_path_1 = Path('C:/Users/mcanela/Desktop/sample_jose/cfos')\n",
    "processed_rois_path_2 = Path('C:/Users/mcanela/Desktop/sample_jose/tdt_analysis_with_model/rois_processed')\n",
    "images_path_2 = Path('C:/Users/mcanela/Desktop/sample_jose/tdt')"
   ]
  },
  {
   "cell_type": "code",
   "execution_count": null,
   "metadata": {},
   "outputs": [],
   "source": [
    "colocalize(processed_rois_path_1, images_path_1, processed_rois_path_2, images_path_2)"
   ]
  },
  {
   "cell_type": "code",
   "execution_count": null,
   "metadata": {},
   "outputs": [],
   "source": [
    "# path = image_folder.parent / 'features.csv'\n",
    "# with open(path, 'rb') as file:\n",
    "#     best_model = pkl.load(file)\n",
    "# df = pd.read_csv(path, index_col=None)\n",
    "# df = df.drop(columns=['Unnamed: 0'])\n",
    "# X = X_test\n",
    "# y = y_test"
   ]
  },
  {
   "cell_type": "code",
   "execution_count": null,
   "metadata": {},
   "outputs": [],
   "source": [
    "# df = pd.read_csv(\"C:/Users/mcanela/Desktop/sample_jose/tdt_analysis_with_model/counts.csv\")\n",
    "# split_df = df[\"file_name\"].str.split(\"_\", expand=True)\n",
    "# df[\"id\"] = split_df[0]\n",
    "# grouped_df = df.groupby(\"id\")[\"num_cells\"].mean().reset_index()\n",
    "# grouped_df.to_excel(\"C:/Users/mcanela/Desktop/sample_jose/counts_grouped.xlsx\", index=False)\n",
    "\n",
    "\n",
    "# split_df = df[\"file_name\"].str.split(\"_\", expand=True)\n",
    "# df[[\"group\", \"id\", \"brain\", \"replica\"]] = split_df\n",
    "# grouped_df = df.groupby([\"group\", \"id\", \"brain\"])[\"cells_per_squared_mm\"].mean().reset_index()\n",
    "# grouped_df.columns = [\"group\", \"id\", \"brain\", \"mean_cells_per_squared_mm\"]\n",
    "# grouped_df.to_excel(os.path.join(output_folder, \"results_friendly.xlsx\"), index=False)"
   ]
  },
  {
   "cell_type": "code",
   "execution_count": null,
   "metadata": {},
   "outputs": [],
   "source": []
  }
 ],
 "metadata": {
  "kernelspec": {
   "display_name": "Python 3",
   "language": "python",
   "name": "python3"
  },
  "language_info": {
   "codemirror_mode": {
    "name": "ipython",
    "version": 3
   },
   "file_extension": ".py",
   "mimetype": "text/x-python",
   "name": "python",
   "nbconvert_exporter": "python",
   "pygments_lexer": "ipython3",
   "version": "3.9.18"
  }
 },
 "nbformat": 4,
 "nbformat_minor": 2
}
