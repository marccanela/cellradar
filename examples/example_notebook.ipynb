{
 "cells": [
  {
   "cell_type": "code",
   "execution_count": 8,
   "metadata": {},
   "outputs": [],
   "source": [
    "import sys\n",
    "import os\n",
    "\n",
    "# Add the directory to sys.path\n",
    "cellradar_path = os.path.abspath('//folder/becell/Lab Projects/ERCstG_HighMemory/Data/Marc/github/cellradar/cellradar')\n",
    "sys.path.append(cellradar_path)"
   ]
  },
  {
   "cell_type": "code",
   "execution_count": 2,
   "metadata": {},
   "outputs": [
    {
     "name": "stdout",
     "output_type": "stream",
     "text": [
      "Obtaining file:///Users/mcanela/Documents/github/cellradar\n",
      "  Installing build dependencies ... \u001b[?25ldone\n",
      "\u001b[?25h  Checking if build backend supports build_editable ... \u001b[?25ldone\n",
      "\u001b[?25h  Getting requirements to build editable ... \u001b[?25ldone\n",
      "\u001b[?25h  Installing backend dependencies ... \u001b[?25ldone\n",
      "\u001b[?25h  Preparing editable metadata (pyproject.toml) ... \u001b[?25ldone\n",
      "\u001b[?25hRequirement already satisfied: csbdeep in /opt/miniconda3/envs/cellradar/lib/python3.8/site-packages (from cellradar==0.1.0) (0.8.0)\n",
      "Requirement already satisfied: matplotlib in /opt/miniconda3/envs/cellradar/lib/python3.8/site-packages (from cellradar==0.1.0) (3.7.3)\n",
      "Requirement already satisfied: numpy in /opt/miniconda3/envs/cellradar/lib/python3.8/site-packages (from cellradar==0.1.0) (1.24.4)\n",
      "Requirement already satisfied: opencv-python in /opt/miniconda3/envs/cellradar/lib/python3.8/site-packages (from cellradar==0.1.0) (4.7.0)\n",
      "Collecting openpyxl (from cellradar==0.1.0)\n",
      "  Downloading openpyxl-3.1.5-py2.py3-none-any.whl.metadata (2.5 kB)\n",
      "Requirement already satisfied: pandas in /opt/miniconda3/envs/cellradar/lib/python3.8/site-packages (from cellradar==0.1.0) (2.0.3)\n",
      "Collecting pathlib (from cellradar==0.1.0)\n",
      "  Using cached pathlib-1.0.1-py3-none-any.whl.metadata (5.1 kB)\n",
      "Collecting pickle5 (from cellradar==0.1.0)\n",
      "  Using cached pickle5-0.0.11.tar.gz (132 kB)\n",
      "  Preparing metadata (setup.py) ... \u001b[?25ldone\n",
      "\u001b[?25hRequirement already satisfied: scikit-image in /opt/miniconda3/envs/cellradar/lib/python3.8/site-packages (from cellradar==0.1.0) (0.21.0)\n",
      "Requirement already satisfied: scikit-learn in /opt/miniconda3/envs/cellradar/lib/python3.8/site-packages (from cellradar==0.1.0) (1.3.2)\n",
      "Requirement already satisfied: scipy in /opt/miniconda3/envs/cellradar/lib/python3.8/site-packages (from cellradar==0.1.0) (1.10.1)\n",
      "Requirement already satisfied: shapely in /opt/miniconda3/envs/cellradar/lib/python3.8/site-packages (from cellradar==0.1.0) (2.0.5)\n",
      "Requirement already satisfied: stardist in /opt/miniconda3/envs/cellradar/lib/python3.8/site-packages (from cellradar==0.1.0) (0.9.1)\n",
      "Requirement already satisfied: tensorflow in /opt/miniconda3/envs/cellradar/lib/python3.8/site-packages (from cellradar==0.1.0) (2.11.1)\n",
      "Requirement already satisfied: tqdm in /opt/miniconda3/envs/cellradar/lib/python3.8/site-packages (from cellradar==0.1.0) (4.66.5)\n",
      "Collecting typing (from cellradar==0.1.0)\n",
      "  Downloading typing-3.7.4.3.tar.gz (78 kB)\n",
      "  Preparing metadata (setup.py) ... \u001b[?25ldone\n",
      "\u001b[?25hRequirement already satisfied: six in /opt/miniconda3/envs/cellradar/lib/python3.8/site-packages (from csbdeep->cellradar==0.1.0) (1.16.0)\n",
      "Requirement already satisfied: tifffile in /opt/miniconda3/envs/cellradar/lib/python3.8/site-packages (from csbdeep->cellradar==0.1.0) (2023.7.10)\n",
      "Requirement already satisfied: packaging in /opt/miniconda3/envs/cellradar/lib/python3.8/site-packages (from csbdeep->cellradar==0.1.0) (24.1)\n",
      "Requirement already satisfied: contourpy>=1.0.1 in /opt/miniconda3/envs/cellradar/lib/python3.8/site-packages (from matplotlib->cellradar==0.1.0) (1.1.1)\n",
      "Requirement already satisfied: cycler>=0.10 in /opt/miniconda3/envs/cellradar/lib/python3.8/site-packages (from matplotlib->cellradar==0.1.0) (0.12.1)\n",
      "Requirement already satisfied: fonttools>=4.22.0 in /opt/miniconda3/envs/cellradar/lib/python3.8/site-packages (from matplotlib->cellradar==0.1.0) (4.53.1)\n",
      "Requirement already satisfied: kiwisolver>=1.0.1 in /opt/miniconda3/envs/cellradar/lib/python3.8/site-packages (from matplotlib->cellradar==0.1.0) (1.4.5)\n",
      "Requirement already satisfied: pillow>=6.2.0 in /opt/miniconda3/envs/cellradar/lib/python3.8/site-packages (from matplotlib->cellradar==0.1.0) (10.0.0)\n",
      "Requirement already satisfied: pyparsing>=2.3.1 in /opt/miniconda3/envs/cellradar/lib/python3.8/site-packages (from matplotlib->cellradar==0.1.0) (3.1.2)\n",
      "Requirement already satisfied: python-dateutil>=2.7 in /opt/miniconda3/envs/cellradar/lib/python3.8/site-packages (from matplotlib->cellradar==0.1.0) (2.9.0)\n",
      "Requirement already satisfied: importlib-resources>=3.2.0 in /opt/miniconda3/envs/cellradar/lib/python3.8/site-packages (from matplotlib->cellradar==0.1.0) (6.4.0)\n",
      "Collecting et-xmlfile (from openpyxl->cellradar==0.1.0)\n",
      "  Downloading et_xmlfile-1.1.0-py3-none-any.whl.metadata (1.8 kB)\n",
      "Requirement already satisfied: pytz>=2020.1 in /opt/miniconda3/envs/cellradar/lib/python3.8/site-packages (from pandas->cellradar==0.1.0) (2024.1)\n",
      "Requirement already satisfied: tzdata>=2022.1 in /opt/miniconda3/envs/cellradar/lib/python3.8/site-packages (from pandas->cellradar==0.1.0) (2024.1)\n",
      "Requirement already satisfied: networkx>=2.8 in /opt/miniconda3/envs/cellradar/lib/python3.8/site-packages (from scikit-image->cellradar==0.1.0) (3.1)\n",
      "Requirement already satisfied: imageio>=2.27 in /opt/miniconda3/envs/cellradar/lib/python3.8/site-packages (from scikit-image->cellradar==0.1.0) (2.34.2)\n",
      "Requirement already satisfied: PyWavelets>=1.1.1 in /opt/miniconda3/envs/cellradar/lib/python3.8/site-packages (from scikit-image->cellradar==0.1.0) (1.4.1)\n",
      "Requirement already satisfied: lazy_loader>=0.2 in /opt/miniconda3/envs/cellradar/lib/python3.8/site-packages (from scikit-image->cellradar==0.1.0) (0.4)\n",
      "Requirement already satisfied: joblib>=1.1.1 in /opt/miniconda3/envs/cellradar/lib/python3.8/site-packages (from scikit-learn->cellradar==0.1.0) (1.4.2)\n",
      "Requirement already satisfied: threadpoolctl>=2.0.0 in /opt/miniconda3/envs/cellradar/lib/python3.8/site-packages (from scikit-learn->cellradar==0.1.0) (3.5.0)\n",
      "Requirement already satisfied: numba in /opt/miniconda3/envs/cellradar/lib/python3.8/site-packages (from stardist->cellradar==0.1.0) (0.58.1)\n",
      "Requirement already satisfied: absl-py>=1.0.0 in /opt/miniconda3/envs/cellradar/lib/python3.8/site-packages (from tensorflow->cellradar==0.1.0) (2.1.0)\n",
      "Requirement already satisfied: astunparse>=1.6.0 in /opt/miniconda3/envs/cellradar/lib/python3.8/site-packages (from tensorflow->cellradar==0.1.0) (1.6.3)\n",
      "Requirement already satisfied: flatbuffers>=2.0 in /opt/miniconda3/envs/cellradar/lib/python3.8/site-packages (from tensorflow->cellradar==0.1.0) (24.3.25)\n",
      "Requirement already satisfied: gast<=0.4.0,>=0.2.1 in /opt/miniconda3/envs/cellradar/lib/python3.8/site-packages (from tensorflow->cellradar==0.1.0) (0.4.0)\n",
      "Requirement already satisfied: google-pasta>=0.1.1 in /opt/miniconda3/envs/cellradar/lib/python3.8/site-packages (from tensorflow->cellradar==0.1.0) (0.2.0)\n",
      "Requirement already satisfied: h5py>=2.9.0 in /opt/miniconda3/envs/cellradar/lib/python3.8/site-packages (from tensorflow->cellradar==0.1.0) (3.9.0)\n",
      "Requirement already satisfied: opt-einsum>=2.3.2 in /opt/miniconda3/envs/cellradar/lib/python3.8/site-packages (from tensorflow->cellradar==0.1.0) (3.3.0)\n",
      "Requirement already satisfied: protobuf>=3.9.2 in /opt/miniconda3/envs/cellradar/lib/python3.8/site-packages (from tensorflow->cellradar==0.1.0) (4.21.12)\n",
      "Requirement already satisfied: setuptools in /opt/miniconda3/envs/cellradar/lib/python3.8/site-packages (from tensorflow->cellradar==0.1.0) (72.1.0)\n",
      "Requirement already satisfied: termcolor>=1.1.0 in /opt/miniconda3/envs/cellradar/lib/python3.8/site-packages (from tensorflow->cellradar==0.1.0) (2.4.0)\n",
      "Requirement already satisfied: typing-extensions>=3.6.6 in /opt/miniconda3/envs/cellradar/lib/python3.8/site-packages (from tensorflow->cellradar==0.1.0) (4.12.2)\n",
      "Requirement already satisfied: wrapt>=1.11.0 in /opt/miniconda3/envs/cellradar/lib/python3.8/site-packages (from tensorflow->cellradar==0.1.0) (1.16.0)\n",
      "Requirement already satisfied: grpcio<2.0,>=1.24.3 in /opt/miniconda3/envs/cellradar/lib/python3.8/site-packages (from tensorflow->cellradar==0.1.0) (1.51.1)\n",
      "Requirement already satisfied: tensorboard<2.12,>=2.11 in /opt/miniconda3/envs/cellradar/lib/python3.8/site-packages (from tensorflow->cellradar==0.1.0) (2.11.2)\n",
      "Requirement already satisfied: tensorflow-estimator<2.12,>=2.11.0 in /opt/miniconda3/envs/cellradar/lib/python3.8/site-packages (from tensorflow->cellradar==0.1.0) (2.11.0)\n",
      "Requirement already satisfied: keras<2.12,>=2.11.0 in /opt/miniconda3/envs/cellradar/lib/python3.8/site-packages (from tensorflow->cellradar==0.1.0) (2.11.0)\n",
      "Requirement already satisfied: wheel<1.0,>=0.23.0 in /opt/miniconda3/envs/cellradar/lib/python3.8/site-packages (from astunparse>=1.6.0->tensorflow->cellradar==0.1.0) (0.43.0)\n",
      "Requirement already satisfied: zipp>=3.1.0 in /opt/miniconda3/envs/cellradar/lib/python3.8/site-packages (from importlib-resources>=3.2.0->matplotlib->cellradar==0.1.0) (3.19.2)\n",
      "Requirement already satisfied: google-auth<3,>=1.6.3 in /opt/miniconda3/envs/cellradar/lib/python3.8/site-packages (from tensorboard<2.12,>=2.11->tensorflow->cellradar==0.1.0) (2.33.0)\n",
      "Requirement already satisfied: google-auth-oauthlib<0.5,>=0.4.1 in /opt/miniconda3/envs/cellradar/lib/python3.8/site-packages (from tensorboard<2.12,>=2.11->tensorflow->cellradar==0.1.0) (0.4.6)\n",
      "Requirement already satisfied: markdown>=2.6.8 in /opt/miniconda3/envs/cellradar/lib/python3.8/site-packages (from tensorboard<2.12,>=2.11->tensorflow->cellradar==0.1.0) (3.6)\n",
      "Requirement already satisfied: requests<3,>=2.21.0 in /opt/miniconda3/envs/cellradar/lib/python3.8/site-packages (from tensorboard<2.12,>=2.11->tensorflow->cellradar==0.1.0) (2.32.3)\n",
      "Requirement already satisfied: tensorboard-data-server<0.7.0,>=0.6.0 in /opt/miniconda3/envs/cellradar/lib/python3.8/site-packages (from tensorboard<2.12,>=2.11->tensorflow->cellradar==0.1.0) (0.6.1)\n",
      "Requirement already satisfied: tensorboard-plugin-wit>=1.6.0 in /opt/miniconda3/envs/cellradar/lib/python3.8/site-packages (from tensorboard<2.12,>=2.11->tensorflow->cellradar==0.1.0) (1.8.1)\n",
      "Requirement already satisfied: werkzeug>=1.0.1 in /opt/miniconda3/envs/cellradar/lib/python3.8/site-packages (from tensorboard<2.12,>=2.11->tensorflow->cellradar==0.1.0) (3.0.3)\n",
      "Requirement already satisfied: llvmlite<0.42,>=0.41.0dev0 in /opt/miniconda3/envs/cellradar/lib/python3.8/site-packages (from numba->stardist->cellradar==0.1.0) (0.41.1)\n",
      "Requirement already satisfied: importlib-metadata in /opt/miniconda3/envs/cellradar/lib/python3.8/site-packages (from numba->stardist->cellradar==0.1.0) (8.2.0)\n",
      "Requirement already satisfied: cachetools<6.0,>=2.0.0 in /opt/miniconda3/envs/cellradar/lib/python3.8/site-packages (from google-auth<3,>=1.6.3->tensorboard<2.12,>=2.11->tensorflow->cellradar==0.1.0) (5.4.0)\n",
      "Requirement already satisfied: pyasn1-modules>=0.2.1 in /opt/miniconda3/envs/cellradar/lib/python3.8/site-packages (from google-auth<3,>=1.6.3->tensorboard<2.12,>=2.11->tensorflow->cellradar==0.1.0) (0.4.0)\n",
      "Requirement already satisfied: rsa<5,>=3.1.4 in /opt/miniconda3/envs/cellradar/lib/python3.8/site-packages (from google-auth<3,>=1.6.3->tensorboard<2.12,>=2.11->tensorflow->cellradar==0.1.0) (4.9)\n",
      "Requirement already satisfied: requests-oauthlib>=0.7.0 in /opt/miniconda3/envs/cellradar/lib/python3.8/site-packages (from google-auth-oauthlib<0.5,>=0.4.1->tensorboard<2.12,>=2.11->tensorflow->cellradar==0.1.0) (2.0.0)\n",
      "Requirement already satisfied: charset-normalizer<4,>=2 in /opt/miniconda3/envs/cellradar/lib/python3.8/site-packages (from requests<3,>=2.21.0->tensorboard<2.12,>=2.11->tensorflow->cellradar==0.1.0) (3.3.2)\n",
      "Requirement already satisfied: idna<4,>=2.5 in /opt/miniconda3/envs/cellradar/lib/python3.8/site-packages (from requests<3,>=2.21.0->tensorboard<2.12,>=2.11->tensorflow->cellradar==0.1.0) (3.7)\n",
      "Requirement already satisfied: urllib3<3,>=1.21.1 in /opt/miniconda3/envs/cellradar/lib/python3.8/site-packages (from requests<3,>=2.21.0->tensorboard<2.12,>=2.11->tensorflow->cellradar==0.1.0) (2.2.2)\n",
      "Requirement already satisfied: certifi>=2017.4.17 in /opt/miniconda3/envs/cellradar/lib/python3.8/site-packages (from requests<3,>=2.21.0->tensorboard<2.12,>=2.11->tensorflow->cellradar==0.1.0) (2024.7.4)\n",
      "Requirement already satisfied: MarkupSafe>=2.1.1 in /opt/miniconda3/envs/cellradar/lib/python3.8/site-packages (from werkzeug>=1.0.1->tensorboard<2.12,>=2.11->tensorflow->cellradar==0.1.0) (2.1.5)\n",
      "Requirement already satisfied: pyasn1<0.7.0,>=0.4.6 in /opt/miniconda3/envs/cellradar/lib/python3.8/site-packages (from pyasn1-modules>=0.2.1->google-auth<3,>=1.6.3->tensorboard<2.12,>=2.11->tensorflow->cellradar==0.1.0) (0.6.0)\n",
      "Requirement already satisfied: oauthlib>=3.0.0 in /opt/miniconda3/envs/cellradar/lib/python3.8/site-packages (from requests-oauthlib>=0.7.0->google-auth-oauthlib<0.5,>=0.4.1->tensorboard<2.12,>=2.11->tensorflow->cellradar==0.1.0) (3.2.2)\n",
      "Downloading openpyxl-3.1.5-py2.py3-none-any.whl (250 kB)\n",
      "Using cached pathlib-1.0.1-py3-none-any.whl (14 kB)\n",
      "Downloading et_xmlfile-1.1.0-py3-none-any.whl (4.7 kB)\n",
      "Building wheels for collected packages: cellradar, pickle5, typing\n",
      "  Building editable for cellradar (pyproject.toml) ... \u001b[?25ldone\n",
      "\u001b[?25h  Created wheel for cellradar: filename=cellradar-0.1.0-py3-none-any.whl size=3020 sha256=6070dabf848a51c755164d7c54187dd0b412e1825dc3b648e1cc31176848aaad\n",
      "  Stored in directory: /private/var/folders/v6/ndr2p31s5g17kx20bdsmb9kw0000gn/T/pip-ephem-wheel-cache-y1bcv2r1/wheels/21/f6/17/f130d0acae5c2a45e9d035e9f0e2949fba809c3bd38638d567\n",
      "  Building wheel for pickle5 (setup.py) ... \u001b[?25ldone\n",
      "\u001b[?25h  Created wheel for pickle5: filename=pickle5-0.0.11-cp38-cp38-macosx_10_9_x86_64.whl size=125811 sha256=44d500ea6607567407aa9a05a19487b466d52e1af4ea33461bbb2e93c78414df\n",
      "  Stored in directory: /Users/mcanela/Library/Caches/pip/wheels/25/d4/61/dbd8edd1a0d656be7b4267c85db3b61951eb60016a0154a122\n",
      "  Building wheel for typing (setup.py) ... \u001b[?25ldone\n",
      "\u001b[?25h  Created wheel for typing: filename=typing-3.7.4.3-py3-none-any.whl size=26304 sha256=d45f0bcde0cf2d7bc664ff9d8d71f88153a620008fee10b60aa92c75faf2bf5a\n",
      "  Stored in directory: /Users/mcanela/Library/Caches/pip/wheels/5e/5d/01/3083e091b57809dad979ea543def62d9d878950e3e74f0c930\n",
      "Successfully built cellradar pickle5 typing\n",
      "Installing collected packages: pickle5, pathlib, typing, et-xmlfile, openpyxl, cellradar\n",
      "Successfully installed cellradar-0.1.0 et-xmlfile-1.1.0 openpyxl-3.1.5 pathlib-1.0.1 pickle5-0.0.11 typing-3.7.4.3\n",
      "Note: you may need to restart the kernel to use updated packages.\n"
     ]
    }
   ],
   "source": [
    "pip install -e .."
   ]
  },
  {
   "cell_type": "code",
   "execution_count": 3,
   "metadata": {},
   "outputs": [
    {
     "ename": "ModuleNotFoundError",
     "evalue": "No module named 'cellradar'",
     "output_type": "error",
     "traceback": [
      "\u001b[0;31m---------------------------------------------------------------------------\u001b[0m",
      "\u001b[0;31mModuleNotFoundError\u001b[0m                       Traceback (most recent call last)",
      "Cell \u001b[0;32mIn[3], line 1\u001b[0m\n\u001b[0;32m----> 1\u001b[0m \u001b[38;5;28;01mfrom\u001b[39;00m \u001b[38;5;21;01mcellradar\u001b[39;00m\u001b[38;5;21;01m.\u001b[39;00m\u001b[38;5;21;01mmain\u001b[39;00m \u001b[38;5;28;01mimport\u001b[39;00m analyze\n",
      "\u001b[0;31mModuleNotFoundError\u001b[0m: No module named 'cellradar'"
     ]
    }
   ],
   "source": [
    "from cellradar.main import analyze"
   ]
  },
  {
   "cell_type": "markdown",
   "metadata": {},
   "source": [
    "# Analyzing single markers"
   ]
  },
  {
   "cell_type": "code",
   "execution_count": null,
   "metadata": {},
   "outputs": [],
   "source": []
  },
  {
   "cell_type": "code",
   "execution_count": null,
   "metadata": {},
   "outputs": [],
   "source": [
    "from main import analyze\n",
    "from pathlib import Path\n",
    "import pickle as pkl"
   ]
  },
  {
   "cell_type": "markdown",
   "metadata": {},
   "source": [
    "## tdTomato"
   ]
  },
  {
   "cell_type": "code",
   "execution_count": 9,
   "metadata": {},
   "outputs": [],
   "source": [
    "tdt_folder = Path(\"//folder/becell/Lab Projects/ERCstG_HighMemory/Data/Marc/github/cellradar/examples/sample_data/tdt\")\n",
    "with open(\"//folder/becell/Lab Projects/ERCstG_HighMemory/Data/Marc/github/cellradar/examples/sample_data/model/best_model_svm.pkl\", \"rb\") as file:\n",
    "    best_model = pkl.load(file)"
   ]
  },
  {
   "cell_type": "code",
   "execution_count": 10,
   "metadata": {},
   "outputs": [
    {
     "name": "stdout",
     "output_type": "stream",
     "text": [
      "Found model '2D_versatile_fluo' for 'StarDist2D'.\n",
      "Loading network weights from 'weights_best.h5'.\n",
      "Loading thresholds from 'thresholds.json'.\n",
      "Using default values: prob_thresh=0.479071, nms_thresh=0.3.\n"
     ]
    },
    {
     "name": "stderr",
     "output_type": "stream",
     "text": [
      "Segmenting images: 100%|██████████| 137/137 [00:53<00:00,  2.57image/s]\n",
      "Applying prediction model: 100%|██████████| 137/137 [05:22<00:00,  2.35s/image]\n"
     ]
    }
   ],
   "source": [
    "analyze(tdt_folder, 'Reds', best_model)"
   ]
  },
  {
   "cell_type": "markdown",
   "metadata": {},
   "source": [
    "## cFos"
   ]
  },
  {
   "cell_type": "code",
   "execution_count": null,
   "metadata": {},
   "outputs": [],
   "source": [
    "cfos_folder = Path(\"//folder/becell/Lab Projects/ERCstG_HighMemory/Data/Marc/github/cellradar/examples/sample_data/cfos\")"
   ]
  },
  {
   "cell_type": "code",
   "execution_count": null,
   "metadata": {},
   "outputs": [],
   "source": [
    "analyze(cfos_folder, 'Greens')"
   ]
  },
  {
   "cell_type": "markdown",
   "metadata": {},
   "source": [
    "# Calculating colocalization"
   ]
  },
  {
   "cell_type": "code",
   "execution_count": null,
   "metadata": {},
   "outputs": [],
   "source": [
    "from predicting import colocalize\n",
    "\n",
    "processed_rois_path_1 = Path('C:/Users/mcanela/Desktop/sample_jose/cfos_analysis/rois_processed')\n",
    "images_path_1 = Path('C:/Users/mcanela/Desktop/sample_jose/cfos')\n",
    "processed_rois_path_2 = Path('C:/Users/mcanela/Desktop/sample_jose/tdt_analysis_with_model/rois_processed')\n",
    "images_path_2 = Path('C:/Users/mcanela/Desktop/sample_jose/tdt')"
   ]
  },
  {
   "cell_type": "code",
   "execution_count": null,
   "metadata": {},
   "outputs": [],
   "source": [
    "colocalize(processed_rois_path_1, images_path_1, processed_rois_path_2, images_path_2)"
   ]
  },
  {
   "cell_type": "code",
   "execution_count": null,
   "metadata": {},
   "outputs": [],
   "source": [
    "# path = image_folder.parent / 'features.csv'\n",
    "# with open(path, 'rb') as file:\n",
    "#     best_model = pkl.load(file)\n",
    "# df = pd.read_csv(path, index_col=None)\n",
    "# df = df.drop(columns=['Unnamed: 0'])\n",
    "# X = X_test\n",
    "# y = y_test"
   ]
  },
  {
   "cell_type": "code",
   "execution_count": null,
   "metadata": {},
   "outputs": [],
   "source": [
    "# df = pd.read_csv(\"C:/Users/mcanela/Desktop/sample_jose/tdt_analysis_with_model/counts.csv\")\n",
    "# split_df = df[\"file_name\"].str.split(\"_\", expand=True)\n",
    "# df[\"id\"] = split_df[0]\n",
    "# grouped_df = df.groupby(\"id\")[\"num_cells\"].mean().reset_index()\n",
    "# grouped_df.to_excel(\"C:/Users/mcanela/Desktop/sample_jose/counts_grouped.xlsx\", index=False)\n",
    "\n",
    "\n",
    "# split_df = df[\"file_name\"].str.split(\"_\", expand=True)\n",
    "# df[[\"group\", \"id\", \"brain\", \"replica\"]] = split_df\n",
    "# grouped_df = df.groupby([\"group\", \"id\", \"brain\"])[\"cells_per_squared_mm\"].mean().reset_index()\n",
    "# grouped_df.columns = [\"group\", \"id\", \"brain\", \"mean_cells_per_squared_mm\"]\n",
    "# grouped_df.to_excel(os.path.join(output_folder, \"results_friendly.xlsx\"), index=False)"
   ]
  },
  {
   "cell_type": "code",
   "execution_count": null,
   "metadata": {},
   "outputs": [],
   "source": []
  }
 ],
 "metadata": {
  "kernelspec": {
   "display_name": "Python 3",
   "language": "python",
   "name": "python3"
  },
  "language_info": {
   "codemirror_mode": {
    "name": "ipython",
    "version": 3
   },
   "file_extension": ".py",
   "mimetype": "text/x-python",
   "name": "python",
   "nbconvert_exporter": "python",
   "pygments_lexer": "ipython3",
   "version": "3.8.19"
  }
 },
 "nbformat": 4,
 "nbformat_minor": 2
}
