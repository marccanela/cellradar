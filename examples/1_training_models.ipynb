{
 "cells": [
  {
   "cell_type": "markdown",
   "metadata": {},
   "source": [
    "# Training models\n",
    "\n",
    "This notebook will focus on machine learning models. When using **Cell Radar** to identify the cells on a fluorescence image, it is essential to train a model to determine which segmentations correspond to cells and which do not. To achieve this objective, we will train a machine-learning classifier using a set of input images.\n",
    "\n",
    "We will start by importing the necessary packages for our analysis, including the functions from `cellradar`. Ensure you have correctly installed `cellradar` in your Conda environment following the instructions in [README.md](../README.md) and that you are running this notebook with this environment (top right corner of the notebook if you are using VSCode)."
   ]
  },
  {
   "cell_type": "code",
   "execution_count": null,
   "metadata": {},
   "outputs": [],
   "source": [
    "from pathlib import Path\n",
    "\n",
    "from cellradar.main import train\n",
    "from cellradar.training import evaluate"
   ]
  },
  {
   "cell_type": "markdown",
   "metadata": {},
   "source": [
    "When running the function `train`, the images of the given folder will be segmented, and different statistics, such as intensity and area, will be automatically extracted. After this process, you will have to label the possible cells manually:\n",
    "\n",
    "- You will be presented with some images of the possible cells. The images consist of four panels representing the same cell, the original size on the left panels, and zoomed in on the right panels, in which the cell is highlighted in blue in two of the panels.\n",
    "- For each image, you must type `1` if it is a positive cell or `0` if not. If you run the code in VSCode, the user prompt will appear in the upper part of the screen (close to the VSCode search bar).\n",
    "\n",
    "By default, the `train` function uses a pipeline composed of a standardization function, a PCA, and a [**support vector machine**](https://scikit-learn.org/stable/modules/generated/sklearn.svm.SVC.html) (`svm`) optimized through a random search. Other architectures are also available based on [**logistic regressions**](https://scikit-learn.org/stable/modules/generated/sklearn.linear_model.LogisticRegression.html) (`logreg`) and [**random forests**](https://scikit-learn.org/stable/modules/generated/sklearn.ensemble.RandomForestClassifier.html) (`rf`). For more information, type `help(train)`, `help(train_svm)`, `help(train_logreg)`, and `help(train_rf)`."
   ]
  },
  {
   "cell_type": "code",
   "execution_count": null,
   "metadata": {},
   "outputs": [],
   "source": [
    "tdt_folder = Path(\"./sample_data/tdt\")\n",
    "best_model, X_train, y_train, X_test, y_test = train(tdt_folder)"
   ]
  },
  {
   "cell_type": "code",
   "execution_count": null,
   "metadata": {},
   "outputs": [],
   "source": [
    "evaluate(tdt_folder, best_model, X_train, y_train, plot=True)"
   ]
  },
  {
   "cell_type": "code",
   "execution_count": null,
   "metadata": {},
   "outputs": [],
   "source": [
    "evaluate(tdt_folder, best_model, X_test, y_test, plot=True)"
   ]
  }
 ],
 "metadata": {
  "kernelspec": {
   "display_name": "cellradar",
   "language": "python",
   "name": "python3"
  },
  "language_info": {
   "codemirror_mode": {
    "name": "ipython",
    "version": 3
   },
   "file_extension": ".py",
   "mimetype": "text/x-python",
   "name": "python",
   "nbconvert_exporter": "python",
   "pygments_lexer": "ipython3",
   "version": "3.8.19"
  }
 },
 "nbformat": 4,
 "nbformat_minor": 2
}
